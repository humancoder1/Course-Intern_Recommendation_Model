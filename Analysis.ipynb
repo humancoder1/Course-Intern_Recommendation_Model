{
 "cells": [
  {
   "cell_type": "code",
   "execution_count": 89,
   "metadata": {},
   "outputs": [],
   "source": [
    "import pandas as pd\n",
    "import numpy as np\n",
    "import matplotlib.pyplot as plt\n",
    "import seaborn as sns\n",
    "from sklearn.feature_extraction.text import TfidfVectorizer\n",
    "from sklearn.metrics.pairwise import cosine_similarity"
   ]
  },
  {
   "cell_type": "code",
   "execution_count": 90,
   "metadata": {},
   "outputs": [
    {
     "data": {
      "text/html": [
       "<div>\n",
       "<style scoped>\n",
       "    .dataframe tbody tr th:only-of-type {\n",
       "        vertical-align: middle;\n",
       "    }\n",
       "\n",
       "    .dataframe tbody tr th {\n",
       "        vertical-align: top;\n",
       "    }\n",
       "\n",
       "    .dataframe thead th {\n",
       "        text-align: right;\n",
       "    }\n",
       "</style>\n",
       "<table border=\"1\" class=\"dataframe\">\n",
       "  <thead>\n",
       "    <tr style=\"text-align: right;\">\n",
       "      <th></th>\n",
       "      <th>Title</th>\n",
       "      <th>Type</th>\n",
       "      <th>Description</th>\n",
       "      <th>Level</th>\n",
       "      <th>Duration</th>\n",
       "      <th>Rating</th>\n",
       "      <th>Review Count</th>\n",
       "      <th>Skills Covered</th>\n",
       "      <th>Prerequisites</th>\n",
       "      <th>Affiliates</th>\n",
       "      <th>URL</th>\n",
       "    </tr>\n",
       "  </thead>\n",
       "  <tbody>\n",
       "    <tr>\n",
       "      <th>0</th>\n",
       "      <td>Data Engineering with AWS</td>\n",
       "      <td>nanodegree</td>\n",
       "      <td>Learn to design data models, build data wareho...</td>\n",
       "      <td>intermediate</td>\n",
       "      <td>4 Months</td>\n",
       "      <td>4.6</td>\n",
       "      <td>1802.0</td>\n",
       "      <td>AWS Glue,  Amazon S3,  AWS Data Warehouse,  Re...</td>\n",
       "      <td>Intermediate Python, intermediate SQL &amp; comman...</td>\n",
       "      <td>NaN</td>\n",
       "      <td>https://www.udacity.com/course/data-engineer-n...</td>\n",
       "    </tr>\n",
       "    <tr>\n",
       "      <th>1</th>\n",
       "      <td>Product Manager</td>\n",
       "      <td>nanodegree</td>\n",
       "      <td>Envision and execute the development of indust...</td>\n",
       "      <td>beginner</td>\n",
       "      <td>4 Months</td>\n",
       "      <td>4.7</td>\n",
       "      <td>864.0</td>\n",
       "      <td>Product Strategy, Product Design, Product Deve...</td>\n",
       "      <td>No Experience Required</td>\n",
       "      <td>NaN</td>\n",
       "      <td>https://www.udacity.com/course/product-manager...</td>\n",
       "    </tr>\n",
       "    <tr>\n",
       "      <th>2</th>\n",
       "      <td>C++</td>\n",
       "      <td>nanodegree</td>\n",
       "      <td>Get hands-on experience building five real-wor...</td>\n",
       "      <td>intermediate</td>\n",
       "      <td>4 Months</td>\n",
       "      <td>4.5</td>\n",
       "      <td>1126.0</td>\n",
       "      <td>Data Structures &amp; Algorithms, Memory Managemen...</td>\n",
       "      <td>Intermediate Programming</td>\n",
       "      <td>NaN</td>\n",
       "      <td>https://www.udacity.com/course/c-plus-plus-nan...</td>\n",
       "    </tr>\n",
       "    <tr>\n",
       "      <th>3</th>\n",
       "      <td>Business Analytics</td>\n",
       "      <td>nanodegree</td>\n",
       "      <td>Gain foundational data skills like analyzing d...</td>\n",
       "      <td>beginner</td>\n",
       "      <td>3 Months</td>\n",
       "      <td>4.8</td>\n",
       "      <td>2649.0</td>\n",
       "      <td>Excel &amp; Spreadsheets, SQL, Data Visualization,...</td>\n",
       "      <td>NaN</td>\n",
       "      <td>Mode</td>\n",
       "      <td>https://www.udacity.com/course/business-analyt...</td>\n",
       "    </tr>\n",
       "    <tr>\n",
       "      <th>4</th>\n",
       "      <td>Data Scientist</td>\n",
       "      <td>nanodegree</td>\n",
       "      <td>Build effective machine learning models, run d...</td>\n",
       "      <td>advanced</td>\n",
       "      <td>4 Months</td>\n",
       "      <td>4.7</td>\n",
       "      <td>1212.0</td>\n",
       "      <td>Machine Learning, Deep Learning, Software Engi...</td>\n",
       "      <td>Python, SQL &amp; Statistics</td>\n",
       "      <td>Bertelsmann, Figure Eight, IBM Watson, Insight...</td>\n",
       "      <td>https://www.udacity.com/course/data-scientist-...</td>\n",
       "    </tr>\n",
       "    <tr>\n",
       "      <th>...</th>\n",
       "      <td>...</td>\n",
       "      <td>...</td>\n",
       "      <td>...</td>\n",
       "      <td>...</td>\n",
       "      <td>...</td>\n",
       "      <td>...</td>\n",
       "      <td>...</td>\n",
       "      <td>...</td>\n",
       "      <td>...</td>\n",
       "      <td>...</td>\n",
       "      <td>...</td>\n",
       "    </tr>\n",
       "    <tr>\n",
       "      <th>262</th>\n",
       "      <td>Front-End Interview Prep</td>\n",
       "      <td>free</td>\n",
       "      <td>Answer front-end technical and behavioral inte...</td>\n",
       "      <td>intermediate</td>\n",
       "      <td>1 Week</td>\n",
       "      <td>NaN</td>\n",
       "      <td>NaN</td>\n",
       "      <td>Interview questions, Common FE Questions, Whit...</td>\n",
       "      <td>NaN</td>\n",
       "      <td>NaN</td>\n",
       "      <td>https://www.udacity.com/course/front-end-inter...</td>\n",
       "    </tr>\n",
       "    <tr>\n",
       "      <th>263</th>\n",
       "      <td>Full-Stack Interview Prep</td>\n",
       "      <td>free</td>\n",
       "      <td>Answer common full stack and web security inte...</td>\n",
       "      <td>intermediate</td>\n",
       "      <td>1 Week</td>\n",
       "      <td>NaN</td>\n",
       "      <td>NaN</td>\n",
       "      <td>Interview practice, Common FS Questions, White...</td>\n",
       "      <td>NaN</td>\n",
       "      <td>NaN</td>\n",
       "      <td>https://www.udacity.com/course/full-stack-inte...</td>\n",
       "    </tr>\n",
       "    <tr>\n",
       "      <th>264</th>\n",
       "      <td>Data Structures &amp; Algorithms in Swift</td>\n",
       "      <td>free</td>\n",
       "      <td>Review and practice the skills technical inter...</td>\n",
       "      <td>intermediate</td>\n",
       "      <td>4 Weeks</td>\n",
       "      <td>NaN</td>\n",
       "      <td>NaN</td>\n",
       "      <td>Interview practice, Swift, Data structures, Ca...</td>\n",
       "      <td>NaN</td>\n",
       "      <td>NaN</td>\n",
       "      <td>https://www.udacity.com/course/data-structures...</td>\n",
       "    </tr>\n",
       "    <tr>\n",
       "      <th>265</th>\n",
       "      <td>iOS Interview Prep</td>\n",
       "      <td>free</td>\n",
       "      <td>Answer iOS and mobile development interview qu...</td>\n",
       "      <td>intermediate</td>\n",
       "      <td>1 Week</td>\n",
       "      <td>NaN</td>\n",
       "      <td>NaN</td>\n",
       "      <td>Interview practice, Common iOS Questions, Whit...</td>\n",
       "      <td>NaN</td>\n",
       "      <td>NaN</td>\n",
       "      <td>https://www.udacity.com/course/ios-interview-p...</td>\n",
       "    </tr>\n",
       "    <tr>\n",
       "      <th>266</th>\n",
       "      <td>VR Interview Prep</td>\n",
       "      <td>free</td>\n",
       "      <td>Learn how to tackle interview questions for te...</td>\n",
       "      <td>intermediate</td>\n",
       "      <td>1 Week</td>\n",
       "      <td>NaN</td>\n",
       "      <td>NaN</td>\n",
       "      <td>Interview practice, Common VR Questions, White...</td>\n",
       "      <td>NaN</td>\n",
       "      <td>Grow With Google</td>\n",
       "      <td>https://www.udacity.com/course/vr-interview-pr...</td>\n",
       "    </tr>\n",
       "  </tbody>\n",
       "</table>\n",
       "<p>267 rows × 11 columns</p>\n",
       "</div>"
      ],
      "text/plain": [
       "                                     Title        Type  \\\n",
       "0                Data Engineering with AWS  nanodegree   \n",
       "1                          Product Manager  nanodegree   \n",
       "2                                      C++  nanodegree   \n",
       "3                       Business Analytics  nanodegree   \n",
       "4                           Data Scientist  nanodegree   \n",
       "..                                     ...         ...   \n",
       "262               Front-End Interview Prep        free   \n",
       "263              Full-Stack Interview Prep        free   \n",
       "264  Data Structures & Algorithms in Swift        free   \n",
       "265                     iOS Interview Prep        free   \n",
       "266                      VR Interview Prep        free   \n",
       "\n",
       "                                           Description         Level  \\\n",
       "0    Learn to design data models, build data wareho...  intermediate   \n",
       "1    Envision and execute the development of indust...      beginner   \n",
       "2    Get hands-on experience building five real-wor...  intermediate   \n",
       "3    Gain foundational data skills like analyzing d...      beginner   \n",
       "4    Build effective machine learning models, run d...      advanced   \n",
       "..                                                 ...           ...   \n",
       "262  Answer front-end technical and behavioral inte...  intermediate   \n",
       "263  Answer common full stack and web security inte...  intermediate   \n",
       "264  Review and practice the skills technical inter...  intermediate   \n",
       "265  Answer iOS and mobile development interview qu...  intermediate   \n",
       "266  Learn how to tackle interview questions for te...  intermediate   \n",
       "\n",
       "     Duration  Rating  Review Count  \\\n",
       "0    4 Months     4.6        1802.0   \n",
       "1    4 Months     4.7         864.0   \n",
       "2    4 Months     4.5        1126.0   \n",
       "3    3 Months     4.8        2649.0   \n",
       "4    4 Months     4.7        1212.0   \n",
       "..        ...     ...           ...   \n",
       "262    1 Week     NaN           NaN   \n",
       "263    1 Week     NaN           NaN   \n",
       "264   4 Weeks     NaN           NaN   \n",
       "265    1 Week     NaN           NaN   \n",
       "266    1 Week     NaN           NaN   \n",
       "\n",
       "                                        Skills Covered  \\\n",
       "0    AWS Glue,  Amazon S3,  AWS Data Warehouse,  Re...   \n",
       "1    Product Strategy, Product Design, Product Deve...   \n",
       "2    Data Structures & Algorithms, Memory Managemen...   \n",
       "3    Excel & Spreadsheets, SQL, Data Visualization,...   \n",
       "4    Machine Learning, Deep Learning, Software Engi...   \n",
       "..                                                 ...   \n",
       "262  Interview questions, Common FE Questions, Whit...   \n",
       "263  Interview practice, Common FS Questions, White...   \n",
       "264  Interview practice, Swift, Data structures, Ca...   \n",
       "265  Interview practice, Common iOS Questions, Whit...   \n",
       "266  Interview practice, Common VR Questions, White...   \n",
       "\n",
       "                                         Prerequisites  \\\n",
       "0    Intermediate Python, intermediate SQL & comman...   \n",
       "1                               No Experience Required   \n",
       "2                             Intermediate Programming   \n",
       "3                                                  NaN   \n",
       "4                             Python, SQL & Statistics   \n",
       "..                                                 ...   \n",
       "262                                                NaN   \n",
       "263                                                NaN   \n",
       "264                                                NaN   \n",
       "265                                                NaN   \n",
       "266                                                NaN   \n",
       "\n",
       "                                            Affiliates  \\\n",
       "0                                                  NaN   \n",
       "1                                                  NaN   \n",
       "2                                                  NaN   \n",
       "3                                                 Mode   \n",
       "4    Bertelsmann, Figure Eight, IBM Watson, Insight...   \n",
       "..                                                 ...   \n",
       "262                                                NaN   \n",
       "263                                                NaN   \n",
       "264                                                NaN   \n",
       "265                                                NaN   \n",
       "266                                   Grow With Google   \n",
       "\n",
       "                                                   URL  \n",
       "0    https://www.udacity.com/course/data-engineer-n...  \n",
       "1    https://www.udacity.com/course/product-manager...  \n",
       "2    https://www.udacity.com/course/c-plus-plus-nan...  \n",
       "3    https://www.udacity.com/course/business-analyt...  \n",
       "4    https://www.udacity.com/course/data-scientist-...  \n",
       "..                                                 ...  \n",
       "262  https://www.udacity.com/course/front-end-inter...  \n",
       "263  https://www.udacity.com/course/full-stack-inte...  \n",
       "264  https://www.udacity.com/course/data-structures...  \n",
       "265  https://www.udacity.com/course/ios-interview-p...  \n",
       "266  https://www.udacity.com/course/vr-interview-pr...  \n",
       "\n",
       "[267 rows x 11 columns]"
      ]
     },
     "execution_count": 90,
     "metadata": {},
     "output_type": "execute_result"
    }
   ],
   "source": [
    "dataframe1 = pd.read_csv(\"./all_courses.csv\")\n",
    "dataframe1"
   ]
  },
  {
   "cell_type": "code",
   "execution_count": 91,
   "metadata": {},
   "outputs": [
    {
     "data": {
      "text/plain": [
       "Title              object\n",
       "Type               object\n",
       "Description        object\n",
       "Level              object\n",
       "Duration           object\n",
       "Rating            float64\n",
       "Review Count      float64\n",
       "Skills Covered     object\n",
       "Prerequisites      object\n",
       "Affiliates         object\n",
       "URL                object\n",
       "dtype: object"
      ]
     },
     "execution_count": 91,
     "metadata": {},
     "output_type": "execute_result"
    }
   ],
   "source": [
    "dataframe1.dtypes"
   ]
  },
  {
   "cell_type": "code",
   "execution_count": 92,
   "metadata": {},
   "outputs": [
    {
     "name": "stdout",
     "output_type": "stream",
     "text": [
      "<class 'pandas.core.frame.DataFrame'>\n",
      "RangeIndex: 267 entries, 0 to 266\n",
      "Data columns (total 11 columns):\n",
      " #   Column          Non-Null Count  Dtype  \n",
      "---  ------          --------------  -----  \n",
      " 0   Title           267 non-null    object \n",
      " 1   Type            267 non-null    object \n",
      " 2   Description     261 non-null    object \n",
      " 3   Level           265 non-null    object \n",
      " 4   Duration        263 non-null    object \n",
      " 5   Rating          62 non-null     float64\n",
      " 6   Review Count    62 non-null     float64\n",
      " 7   Skills Covered  267 non-null    object \n",
      " 8   Prerequisites   77 non-null     object \n",
      " 9   Affiliates      138 non-null    object \n",
      " 10  URL             267 non-null    object \n",
      "dtypes: float64(2), object(9)\n",
      "memory usage: 23.1+ KB\n"
     ]
    }
   ],
   "source": [
    "dataframe1.info()"
   ]
  },
  {
   "cell_type": "code",
   "execution_count": 93,
   "metadata": {},
   "outputs": [
    {
     "data": {
      "text/plain": [
       "array([4.6, 4.7, 4.5, 4.8, nan, 4.3, 4.4])"
      ]
     },
     "execution_count": 93,
     "metadata": {},
     "output_type": "execute_result"
    }
   ],
   "source": [
    "dataframe1['Rating'].unique()"
   ]
  },
  {
   "cell_type": "code",
   "execution_count": 94,
   "metadata": {},
   "outputs": [
    {
     "data": {
      "text/plain": [
       "array([1802.,  864., 1126., 2649., 1212., 3865., 2418., 3496., 3368.,\n",
       "       1558.,  749.,  143.,  339.,  115.,  789., 1269.,   nan, 1032.,\n",
       "        359., 1626.,  220.,  144.,   50., 1194.,  566.,  534.,  798.,\n",
       "        850.,  571.,  616.,  355.,  846.,  122.,  256.,  525.,  806.,\n",
       "         89.,  163.,  242.,  844.,  529.,  301.,  554.,  161.,  151.,\n",
       "        446.,  277.,  124.,  145.,  897.,  254.,  206.,   94.,  200.,\n",
       "         83.,   57.,  106.,   65.,   95.])"
      ]
     },
     "execution_count": 94,
     "metadata": {},
     "output_type": "execute_result"
    }
   ],
   "source": [
    "dataframe1['Review Count'].unique()"
   ]
  },
  {
   "cell_type": "code",
   "execution_count": 95,
   "metadata": {},
   "outputs": [
    {
     "data": {
      "text/plain": [
       "<Axes: xlabel='Rating', ylabel='Review Count'>"
      ]
     },
     "execution_count": 95,
     "metadata": {},
     "output_type": "execute_result"
    },
    {
     "data": {
      "image/png": "[encoded data removed]",
      "text/plain": [
       "<Figure size 640x480 with 1 Axes>"
      ]
     },
     "metadata": {},
     "output_type": "display_data"
    }
   ],
   "source": [
    "sns.barplot(x = dataframe1['Rating'] , y = dataframe1['Review Count'] )"
   ]
  },
  {
   "cell_type": "code",
   "execution_count": 96,
   "metadata": {},
   "outputs": [
    {
     "data": {
      "text/plain": [
       "<Axes: >"
      ]
     },
     "execution_count": 96,
     "metadata": {},
     "output_type": "execute_result"
    },
    {
     "data": {
      "image/png": "[encoded data removed]",
      "text/plain": [
       "<Figure size 640x480 with 2 Axes>"
      ]
     },
     "metadata": {},
     "output_type": "display_data"
    }
   ],
   "source": [
    "sns.heatmap(dataframe1.isna()  , linecolor=\"red\")\n",
    "# sns.barplot(dataframe1.isna())"
   ]
  },
  {
   "cell_type": "code",
   "execution_count": 97,
   "metadata": {},
   "outputs": [
    {
     "data": {
      "text/html": [
       "<div>\n",
       "<style scoped>\n",
       "    .dataframe tbody tr th:only-of-type {\n",
       "        vertical-align: middle;\n",
       "    }\n",
       "\n",
       "    .dataframe tbody tr th {\n",
       "        vertical-align: top;\n",
       "    }\n",
       "\n",
       "    .dataframe thead th {\n",
       "        text-align: right;\n",
       "    }\n",
       "</style>\n",
       "<table border=\"1\" class=\"dataframe\">\n",
       "  <thead>\n",
       "    <tr style=\"text-align: right;\">\n",
       "      <th></th>\n",
       "      <th>Title</th>\n",
       "      <th>Type</th>\n",
       "      <th>Description</th>\n",
       "      <th>Level</th>\n",
       "      <th>Duration</th>\n",
       "      <th>Rating</th>\n",
       "      <th>Review Count</th>\n",
       "      <th>Skills Covered</th>\n",
       "      <th>Prerequisites</th>\n",
       "      <th>Affiliates</th>\n",
       "      <th>URL</th>\n",
       "    </tr>\n",
       "  </thead>\n",
       "  <tbody>\n",
       "    <tr>\n",
       "      <th>16</th>\n",
       "      <td>Self-Driving Car Engineer</td>\n",
       "      <td>nanodegree</td>\n",
       "      <td>Learn the techniques that power self-driving c...</td>\n",
       "      <td>advanced</td>\n",
       "      <td>5 Months</td>\n",
       "      <td>NaN</td>\n",
       "      <td>NaN</td>\n",
       "      <td>Computer Vision, Deep Learning, Sensor Fusion,...</td>\n",
       "      <td>Python, C++, Linear Algebra and Calculus</td>\n",
       "      <td>Waymo, Mercedes-Benz</td>\n",
       "      <td>https://www.udacity.com/course/self-driving-ca...</td>\n",
       "    </tr>\n",
       "    <tr>\n",
       "      <th>19</th>\n",
       "      <td>Data Engineering with Microsoft Azure</td>\n",
       "      <td>nanodegree</td>\n",
       "      <td>Master job-ready Azure skills like designing d...</td>\n",
       "      <td>intermediate</td>\n",
       "      <td>4 Months</td>\n",
       "      <td>NaN</td>\n",
       "      <td>NaN</td>\n",
       "      <td>Database Normalization,  Data Modeling Basics,...</td>\n",
       "      <td>Experience with SQL, Python, Azure, and Github</td>\n",
       "      <td>NaN</td>\n",
       "      <td>https://www.udacity.com/course/data-engineerin...</td>\n",
       "    </tr>\n",
       "    <tr>\n",
       "      <th>54</th>\n",
       "      <td>Digital Project Management</td>\n",
       "      <td>nanodegree</td>\n",
       "      <td>Build confidence translating business requirem...</td>\n",
       "      <td>beginner</td>\n",
       "      <td>1 Month</td>\n",
       "      <td>NaN</td>\n",
       "      <td>NaN</td>\n",
       "      <td>Waterfall project management,  Strategic commu...</td>\n",
       "      <td>Professional fluency in English</td>\n",
       "      <td>NaN</td>\n",
       "      <td>https://www.udacity.com/course/digital-project...</td>\n",
       "    </tr>\n",
       "    <tr>\n",
       "      <th>59</th>\n",
       "      <td>Ethical Hacker</td>\n",
       "      <td>nanodegree</td>\n",
       "      <td>Learn how to find and exploit vulnerabilities,...</td>\n",
       "      <td>advanced</td>\n",
       "      <td>2 Months</td>\n",
       "      <td>NaN</td>\n",
       "      <td>NaN</td>\n",
       "      <td>Vulnerability Management,  Penetration Testing...</td>\n",
       "      <td>Linux, Networking, Programming and Window OS</td>\n",
       "      <td>NaN</td>\n",
       "      <td>https://www.udacity.com/course/ethical-hacker-...</td>\n",
       "    </tr>\n",
       "    <tr>\n",
       "      <th>60</th>\n",
       "      <td>RPA Developer with UiPath</td>\n",
       "      <td>nanodegree</td>\n",
       "      <td>Build the operational processes that enable th...</td>\n",
       "      <td>beginner</td>\n",
       "      <td>4 Months</td>\n",
       "      <td>NaN</td>\n",
       "      <td>NaN</td>\n",
       "      <td>Process Automation, Business Operations, UiPat...</td>\n",
       "      <td>Basic familiarity with Microsoft applications ...</td>\n",
       "      <td>UiPath</td>\n",
       "      <td>https://www.udacity.com/course/rpa-developer-n...</td>\n",
       "    </tr>\n",
       "    <tr>\n",
       "      <th>...</th>\n",
       "      <td>...</td>\n",
       "      <td>...</td>\n",
       "      <td>...</td>\n",
       "      <td>...</td>\n",
       "      <td>...</td>\n",
       "      <td>...</td>\n",
       "      <td>...</td>\n",
       "      <td>...</td>\n",
       "      <td>...</td>\n",
       "      <td>...</td>\n",
       "      <td>...</td>\n",
       "    </tr>\n",
       "    <tr>\n",
       "      <th>262</th>\n",
       "      <td>Front-End Interview Prep</td>\n",
       "      <td>free</td>\n",
       "      <td>Answer front-end technical and behavioral inte...</td>\n",
       "      <td>intermediate</td>\n",
       "      <td>1 Week</td>\n",
       "      <td>NaN</td>\n",
       "      <td>NaN</td>\n",
       "      <td>Interview questions, Common FE Questions, Whit...</td>\n",
       "      <td>NaN</td>\n",
       "      <td>NaN</td>\n",
       "      <td>https://www.udacity.com/course/front-end-inter...</td>\n",
       "    </tr>\n",
       "    <tr>\n",
       "      <th>263</th>\n",
       "      <td>Full-Stack Interview Prep</td>\n",
       "      <td>free</td>\n",
       "      <td>Answer common full stack and web security inte...</td>\n",
       "      <td>intermediate</td>\n",
       "      <td>1 Week</td>\n",
       "      <td>NaN</td>\n",
       "      <td>NaN</td>\n",
       "      <td>Interview practice, Common FS Questions, White...</td>\n",
       "      <td>NaN</td>\n",
       "      <td>NaN</td>\n",
       "      <td>https://www.udacity.com/course/full-stack-inte...</td>\n",
       "    </tr>\n",
       "    <tr>\n",
       "      <th>264</th>\n",
       "      <td>Data Structures &amp; Algorithms in Swift</td>\n",
       "      <td>free</td>\n",
       "      <td>Review and practice the skills technical inter...</td>\n",
       "      <td>intermediate</td>\n",
       "      <td>4 Weeks</td>\n",
       "      <td>NaN</td>\n",
       "      <td>NaN</td>\n",
       "      <td>Interview practice, Swift, Data structures, Ca...</td>\n",
       "      <td>NaN</td>\n",
       "      <td>NaN</td>\n",
       "      <td>https://www.udacity.com/course/data-structures...</td>\n",
       "    </tr>\n",
       "    <tr>\n",
       "      <th>265</th>\n",
       "      <td>iOS Interview Prep</td>\n",
       "      <td>free</td>\n",
       "      <td>Answer iOS and mobile development interview qu...</td>\n",
       "      <td>intermediate</td>\n",
       "      <td>1 Week</td>\n",
       "      <td>NaN</td>\n",
       "      <td>NaN</td>\n",
       "      <td>Interview practice, Common iOS Questions, Whit...</td>\n",
       "      <td>NaN</td>\n",
       "      <td>NaN</td>\n",
       "      <td>https://www.udacity.com/course/ios-interview-p...</td>\n",
       "    </tr>\n",
       "    <tr>\n",
       "      <th>266</th>\n",
       "      <td>VR Interview Prep</td>\n",
       "      <td>free</td>\n",
       "      <td>Learn how to tackle interview questions for te...</td>\n",
       "      <td>intermediate</td>\n",
       "      <td>1 Week</td>\n",
       "      <td>NaN</td>\n",
       "      <td>NaN</td>\n",
       "      <td>Interview practice, Common VR Questions, White...</td>\n",
       "      <td>NaN</td>\n",
       "      <td>Grow With Google</td>\n",
       "      <td>https://www.udacity.com/course/vr-interview-pr...</td>\n",
       "    </tr>\n",
       "  </tbody>\n",
       "</table>\n",
       "<p>205 rows × 11 columns</p>\n",
       "</div>"
      ],
      "text/plain": [
       "                                      Title        Type  \\\n",
       "16                Self-Driving Car Engineer  nanodegree   \n",
       "19   Data Engineering with Microsoft Azure   nanodegree   \n",
       "54               Digital Project Management  nanodegree   \n",
       "59                           Ethical Hacker  nanodegree   \n",
       "60                RPA Developer with UiPath  nanodegree   \n",
       "..                                      ...         ...   \n",
       "262                Front-End Interview Prep        free   \n",
       "263               Full-Stack Interview Prep        free   \n",
       "264   Data Structures & Algorithms in Swift        free   \n",
       "265                      iOS Interview Prep        free   \n",
       "266                       VR Interview Prep        free   \n",
       "\n",
       "                                           Description         Level  \\\n",
       "16   Learn the techniques that power self-driving c...      advanced   \n",
       "19   Master job-ready Azure skills like designing d...  intermediate   \n",
       "54   Build confidence translating business requirem...      beginner   \n",
       "59   Learn how to find and exploit vulnerabilities,...      advanced   \n",
       "60   Build the operational processes that enable th...      beginner   \n",
       "..                                                 ...           ...   \n",
       "262  Answer front-end technical and behavioral inte...  intermediate   \n",
       "263  Answer common full stack and web security inte...  intermediate   \n",
       "264  Review and practice the skills technical inter...  intermediate   \n",
       "265  Answer iOS and mobile development interview qu...  intermediate   \n",
       "266  Learn how to tackle interview questions for te...  intermediate   \n",
       "\n",
       "     Duration  Rating  Review Count  \\\n",
       "16   5 Months     NaN           NaN   \n",
       "19   4 Months     NaN           NaN   \n",
       "54    1 Month     NaN           NaN   \n",
       "59   2 Months     NaN           NaN   \n",
       "60   4 Months     NaN           NaN   \n",
       "..        ...     ...           ...   \n",
       "262    1 Week     NaN           NaN   \n",
       "263    1 Week     NaN           NaN   \n",
       "264   4 Weeks     NaN           NaN   \n",
       "265    1 Week     NaN           NaN   \n",
       "266    1 Week     NaN           NaN   \n",
       "\n",
       "                                        Skills Covered  \\\n",
       "16   Computer Vision, Deep Learning, Sensor Fusion,...   \n",
       "19   Database Normalization,  Data Modeling Basics,...   \n",
       "54   Waterfall project management,  Strategic commu...   \n",
       "59   Vulnerability Management,  Penetration Testing...   \n",
       "60   Process Automation, Business Operations, UiPat...   \n",
       "..                                                 ...   \n",
       "262  Interview questions, Common FE Questions, Whit...   \n",
       "263  Interview practice, Common FS Questions, White...   \n",
       "264  Interview practice, Swift, Data structures, Ca...   \n",
       "265  Interview practice, Common iOS Questions, Whit...   \n",
       "266  Interview practice, Common VR Questions, White...   \n",
       "\n",
       "                                         Prerequisites            Affiliates  \\\n",
       "16            Python, C++, Linear Algebra and Calculus  Waymo, Mercedes-Benz   \n",
       "19      Experience with SQL, Python, Azure, and Github                   NaN   \n",
       "54                     Professional fluency in English                   NaN   \n",
       "59        Linux, Networking, Programming and Window OS                   NaN   \n",
       "60   Basic familiarity with Microsoft applications ...                UiPath   \n",
       "..                                                 ...                   ...   \n",
       "262                                                NaN                   NaN   \n",
       "263                                                NaN                   NaN   \n",
       "264                                                NaN                   NaN   \n",
       "265                                                NaN                   NaN   \n",
       "266                                                NaN      Grow With Google   \n",
       "\n",
       "                                                   URL  \n",
       "16   https://www.udacity.com/course/self-driving-ca...  \n",
       "19   https://www.udacity.com/course/data-engineerin...  \n",
       "54   https://www.udacity.com/course/digital-project...  \n",
       "59   https://www.udacity.com/course/ethical-hacker-...  \n",
       "60   https://www.udacity.com/course/rpa-developer-n...  \n",
       "..                                                 ...  \n",
       "262  https://www.udacity.com/course/front-end-inter...  \n",
       "263  https://www.udacity.com/course/full-stack-inte...  \n",
       "264  https://www.udacity.com/course/data-structures...  \n",
       "265  https://www.udacity.com/course/ios-interview-p...  \n",
       "266  https://www.udacity.com/course/vr-interview-pr...  \n",
       "\n",
       "[205 rows x 11 columns]"
      ]
     },
     "execution_count": 97,
     "metadata": {},
     "output_type": "execute_result"
    }
   ],
   "source": [
    "dataframe1.loc[dataframe1['Rating'].isna()]"
   ]
  },
  {
   "cell_type": "code",
   "execution_count": 98,
   "metadata": {},
   "outputs": [
    {
     "name": "stdout",
     "output_type": "stream",
     "text": [
      "249\n"
     ]
    }
   ],
   "source": [
    "a = dataframe1[\"Skills Covered\"].unique()\n",
    "count = 0;\n",
    "for i in a:\n",
    "    count += 1\n",
    "print(count)"
   ]
  },
  {
   "cell_type": "code",
   "execution_count": 99,
   "metadata": {},
   "outputs": [
    {
     "data": {
      "text/html": [
       "<div>\n",
       "<style scoped>\n",
       "    .dataframe tbody tr th:only-of-type {\n",
       "        vertical-align: middle;\n",
       "    }\n",
       "\n",
       "    .dataframe tbody tr th {\n",
       "        vertical-align: top;\n",
       "    }\n",
       "\n",
       "    .dataframe thead th {\n",
       "        text-align: right;\n",
       "    }\n",
       "</style>\n",
       "<table border=\"1\" class=\"dataframe\">\n",
       "  <thead>\n",
       "    <tr style=\"text-align: right;\">\n",
       "      <th></th>\n",
       "      <th>Rating</th>\n",
       "      <th>Review Count</th>\n",
       "    </tr>\n",
       "  </thead>\n",
       "  <tbody>\n",
       "    <tr>\n",
       "      <th>count</th>\n",
       "      <td>62.000000</td>\n",
       "      <td>62.000000</td>\n",
       "    </tr>\n",
       "    <tr>\n",
       "      <th>mean</th>\n",
       "      <td>4.595161</td>\n",
       "      <td>714.887097</td>\n",
       "    </tr>\n",
       "    <tr>\n",
       "      <th>std</th>\n",
       "      <td>0.123378</td>\n",
       "      <td>856.714006</td>\n",
       "    </tr>\n",
       "    <tr>\n",
       "      <th>min</th>\n",
       "      <td>4.300000</td>\n",
       "      <td>50.000000</td>\n",
       "    </tr>\n",
       "    <tr>\n",
       "      <th>25%</th>\n",
       "      <td>4.500000</td>\n",
       "      <td>151.000000</td>\n",
       "    </tr>\n",
       "    <tr>\n",
       "      <th>50%</th>\n",
       "      <td>4.600000</td>\n",
       "      <td>359.000000</td>\n",
       "    </tr>\n",
       "    <tr>\n",
       "      <th>75%</th>\n",
       "      <td>4.700000</td>\n",
       "      <td>849.000000</td>\n",
       "    </tr>\n",
       "    <tr>\n",
       "      <th>max</th>\n",
       "      <td>4.800000</td>\n",
       "      <td>3865.000000</td>\n",
       "    </tr>\n",
       "  </tbody>\n",
       "</table>\n",
       "</div>"
      ],
      "text/plain": [
       "          Rating  Review Count\n",
       "count  62.000000     62.000000\n",
       "mean    4.595161    714.887097\n",
       "std     0.123378    856.714006\n",
       "min     4.300000     50.000000\n",
       "25%     4.500000    151.000000\n",
       "50%     4.600000    359.000000\n",
       "75%     4.700000    849.000000\n",
       "max     4.800000   3865.000000"
      ]
     },
     "execution_count": 99,
     "metadata": {},
     "output_type": "execute_result"
    }
   ],
   "source": [
    "dataframe1.describe()"
   ]
  },
  {
   "cell_type": "code",
   "execution_count": 100,
   "metadata": {},
   "outputs": [
    {
     "data": {
      "text/plain": [
       "Index(['Title', 'Type', 'Description', 'Level', 'Duration', 'Rating',\n",
       "       'Review Count', 'Skills Covered', 'Prerequisites', 'Affiliates', 'URL'],\n",
       "      dtype='object')"
      ]
     },
     "execution_count": 100,
     "metadata": {},
     "output_type": "execute_result"
    }
   ],
   "source": [
    "dataframe1.columns"
   ]
  },
  {
   "cell_type": "code",
   "execution_count": 101,
   "metadata": {},
   "outputs": [
    {
     "data": {
      "text/plain": [
       "Title               0\n",
       "Type                0\n",
       "Description         6\n",
       "Level               2\n",
       "Duration            4\n",
       "Rating            205\n",
       "Review Count      205\n",
       "Skills Covered      0\n",
       "Prerequisites     190\n",
       "Affiliates        129\n",
       "URL                 0\n",
       "dtype: int64"
      ]
     },
     "execution_count": 101,
     "metadata": {},
     "output_type": "execute_result"
    }
   ],
   "source": [
    "dataframe1.isna().sum()"
   ]
  },
  {
   "cell_type": "code",
   "execution_count": 102,
   "metadata": {},
   "outputs": [
    {
     "data": {
      "text/html": [
       "<div>\n",
       "<style scoped>\n",
       "    .dataframe tbody tr th:only-of-type {\n",
       "        vertical-align: middle;\n",
       "    }\n",
       "\n",
       "    .dataframe tbody tr th {\n",
       "        vertical-align: top;\n",
       "    }\n",
       "\n",
       "    .dataframe thead th {\n",
       "        text-align: right;\n",
       "    }\n",
       "</style>\n",
       "<table border=\"1\" class=\"dataframe\">\n",
       "  <thead>\n",
       "    <tr style=\"text-align: right;\">\n",
       "      <th></th>\n",
       "      <th>Title</th>\n",
       "      <th>Type</th>\n",
       "      <th>Description</th>\n",
       "      <th>Level</th>\n",
       "      <th>Duration</th>\n",
       "      <th>Rating</th>\n",
       "      <th>Review Count</th>\n",
       "      <th>Skills Covered</th>\n",
       "      <th>Prerequisites</th>\n",
       "      <th>Affiliates</th>\n",
       "      <th>URL</th>\n",
       "    </tr>\n",
       "  </thead>\n",
       "  <tbody>\n",
       "  </tbody>\n",
       "</table>\n",
       "</div>"
      ],
      "text/plain": [
       "Empty DataFrame\n",
       "Columns: [Title, Type, Description, Level, Duration, Rating, Review Count, Skills Covered, Prerequisites, Affiliates, URL]\n",
       "Index: []"
      ]
     },
     "execution_count": 102,
     "metadata": {},
     "output_type": "execute_result"
    }
   ],
   "source": [
    "dataframe1.loc[dataframe1.duplicated()]"
   ]
  },
  {
   "cell_type": "code",
   "execution_count": 103,
   "metadata": {},
   "outputs": [
    {
     "data": {
      "text/html": [
       "<div>\n",
       "<style scoped>\n",
       "    .dataframe tbody tr th:only-of-type {\n",
       "        vertical-align: middle;\n",
       "    }\n",
       "\n",
       "    .dataframe tbody tr th {\n",
       "        vertical-align: top;\n",
       "    }\n",
       "\n",
       "    .dataframe thead th {\n",
       "        text-align: right;\n",
       "    }\n",
       "</style>\n",
       "<table border=\"1\" class=\"dataframe\">\n",
       "  <thead>\n",
       "    <tr style=\"text-align: right;\">\n",
       "      <th></th>\n",
       "      <th>Title</th>\n",
       "      <th>Type</th>\n",
       "      <th>Description</th>\n",
       "      <th>Level</th>\n",
       "      <th>Duration</th>\n",
       "      <th>Rating</th>\n",
       "      <th>Review Count</th>\n",
       "      <th>Skills Covered</th>\n",
       "      <th>Prerequisites</th>\n",
       "      <th>Affiliates</th>\n",
       "      <th>URL</th>\n",
       "    </tr>\n",
       "  </thead>\n",
       "  <tbody>\n",
       "    <tr>\n",
       "      <th>87</th>\n",
       "      <td>Artificial Intelligence</td>\n",
       "      <td>free</td>\n",
       "      <td>This course gives a survey of topics in AI alo...</td>\n",
       "      <td>intermediate</td>\n",
       "      <td>4 Months</td>\n",
       "      <td>NaN</td>\n",
       "      <td>NaN</td>\n",
       "      <td>Artificial Intelligence, Probability, Bayesian...</td>\n",
       "      <td>NaN</td>\n",
       "      <td>Georgia Institute of Technology</td>\n",
       "      <td>https://www.udacity.com/course/artificial-inte...</td>\n",
       "    </tr>\n",
       "  </tbody>\n",
       "</table>\n",
       "</div>"
      ],
      "text/plain": [
       "                      Title  Type  \\\n",
       "87  Artificial Intelligence  free   \n",
       "\n",
       "                                          Description         Level  Duration  \\\n",
       "87  This course gives a survey of topics in AI alo...  intermediate  4 Months   \n",
       "\n",
       "    Rating  Review Count                                     Skills Covered  \\\n",
       "87     NaN           NaN  Artificial Intelligence, Probability, Bayesian...   \n",
       "\n",
       "   Prerequisites                       Affiliates  \\\n",
       "87           NaN  Georgia Institute of Technology   \n",
       "\n",
       "                                                  URL  \n",
       "87  https://www.udacity.com/course/artificial-inte...  "
      ]
     },
     "execution_count": 103,
     "metadata": {},
     "output_type": "execute_result"
    }
   ],
   "source": [
    "dataframe1.loc[dataframe1.duplicated(subset='Title')]"
   ]
  },
  {
   "cell_type": "code",
   "execution_count": 104,
   "metadata": {},
   "outputs": [
    {
     "data": {
      "text/html": [
       "<div>\n",
       "<style scoped>\n",
       "    .dataframe tbody tr th:only-of-type {\n",
       "        vertical-align: middle;\n",
       "    }\n",
       "\n",
       "    .dataframe tbody tr th {\n",
       "        vertical-align: top;\n",
       "    }\n",
       "\n",
       "    .dataframe thead th {\n",
       "        text-align: right;\n",
       "    }\n",
       "</style>\n",
       "<table border=\"1\" class=\"dataframe\">\n",
       "  <thead>\n",
       "    <tr style=\"text-align: right;\">\n",
       "      <th></th>\n",
       "      <th>Title</th>\n",
       "      <th>Type</th>\n",
       "      <th>Description</th>\n",
       "      <th>Level</th>\n",
       "      <th>Duration</th>\n",
       "      <th>Rating</th>\n",
       "      <th>Review Count</th>\n",
       "      <th>Skills Covered</th>\n",
       "      <th>Prerequisites</th>\n",
       "      <th>Affiliates</th>\n",
       "      <th>URL</th>\n",
       "    </tr>\n",
       "  </thead>\n",
       "  <tbody>\n",
       "    <tr>\n",
       "      <th>53</th>\n",
       "      <td>Artificial Intelligence</td>\n",
       "      <td>nanodegree</td>\n",
       "      <td>Learn essential Artificial Intelligence concep...</td>\n",
       "      <td>advanced</td>\n",
       "      <td>3 Months</td>\n",
       "      <td>4.5</td>\n",
       "      <td>355.0</td>\n",
       "      <td>Constraint Propagation,  AI Algorithms,  Const...</td>\n",
       "      <td>Algebra, Calculus, Statistics, &amp; Python</td>\n",
       "      <td>NaN</td>\n",
       "      <td>https://www.udacity.com/course/ai-artificial-i...</td>\n",
       "    </tr>\n",
       "    <tr>\n",
       "      <th>87</th>\n",
       "      <td>Artificial Intelligence</td>\n",
       "      <td>free</td>\n",
       "      <td>This course gives a survey of topics in AI alo...</td>\n",
       "      <td>intermediate</td>\n",
       "      <td>4 Months</td>\n",
       "      <td>NaN</td>\n",
       "      <td>NaN</td>\n",
       "      <td>Artificial Intelligence, Probability, Bayesian...</td>\n",
       "      <td>NaN</td>\n",
       "      <td>Georgia Institute of Technology</td>\n",
       "      <td>https://www.udacity.com/course/artificial-inte...</td>\n",
       "    </tr>\n",
       "  </tbody>\n",
       "</table>\n",
       "</div>"
      ],
      "text/plain": [
       "                      Title        Type  \\\n",
       "53  Artificial Intelligence  nanodegree   \n",
       "87  Artificial Intelligence        free   \n",
       "\n",
       "                                          Description         Level  Duration  \\\n",
       "53  Learn essential Artificial Intelligence concep...      advanced  3 Months   \n",
       "87  This course gives a survey of topics in AI alo...  intermediate  4 Months   \n",
       "\n",
       "    Rating  Review Count                                     Skills Covered  \\\n",
       "53     4.5         355.0  Constraint Propagation,  AI Algorithms,  Const...   \n",
       "87     NaN           NaN  Artificial Intelligence, Probability, Bayesian...   \n",
       "\n",
       "                              Prerequisites                       Affiliates  \\\n",
       "53  Algebra, Calculus, Statistics, & Python                              NaN   \n",
       "87                                      NaN  Georgia Institute of Technology   \n",
       "\n",
       "                                                  URL  \n",
       "53  https://www.udacity.com/course/ai-artificial-i...  \n",
       "87  https://www.udacity.com/course/artificial-inte...  "
      ]
     },
     "execution_count": 104,
     "metadata": {},
     "output_type": "execute_result"
    }
   ],
   "source": [
    "dataframe1.query('Title == \"Artificial Intelligence\"')"
   ]
  },
  {
   "cell_type": "code",
   "execution_count": 105,
   "metadata": {},
   "outputs": [],
   "source": [
    "# new_df = dataframe1.copy()\n",
    "new_df = dataframe1.drop(columns=[\"Rating\" ,\"Review Count\",\"Prerequisites\" , \"Affiliates\" , \"Type\" , \"Description\" , \"Duration\" , \"URL\"]).copy()"
   ]
  },
  {
   "cell_type": "markdown",
   "metadata": {},
   "source": [
    "## Analysis Conclusion \n",
    "\n",
    "- Most of the columns/features are well formated.\n",
    "- Duplicate Values are Not Present except one value of Title Column -> Artificial Inteligence\n",
    "- Prerequisites Column has the independent Null Values so cannot be managed thus dropping it.\n",
    "- No requirement of Rating and Review Count and Affiliates, thus dropping it as well"
   ]
  },
  {
   "cell_type": "code",
   "execution_count": 106,
   "metadata": {},
   "outputs": [
    {
     "data": {
      "text/html": [
       "<div>\n",
       "<style scoped>\n",
       "    .dataframe tbody tr th:only-of-type {\n",
       "        vertical-align: middle;\n",
       "    }\n",
       "\n",
       "    .dataframe tbody tr th {\n",
       "        vertical-align: top;\n",
       "    }\n",
       "\n",
       "    .dataframe thead th {\n",
       "        text-align: right;\n",
       "    }\n",
       "</style>\n",
       "<table border=\"1\" class=\"dataframe\">\n",
       "  <thead>\n",
       "    <tr style=\"text-align: right;\">\n",
       "      <th></th>\n",
       "      <th>Title</th>\n",
       "      <th>Level</th>\n",
       "      <th>Skills Covered</th>\n",
       "    </tr>\n",
       "  </thead>\n",
       "  <tbody>\n",
       "    <tr>\n",
       "      <th>0</th>\n",
       "      <td>Data Engineering with AWS</td>\n",
       "      <td>intermediate</td>\n",
       "      <td>AWS Glue,  Amazon S3,  AWS Data Warehouse,  Re...</td>\n",
       "    </tr>\n",
       "    <tr>\n",
       "      <th>1</th>\n",
       "      <td>Product Manager</td>\n",
       "      <td>beginner</td>\n",
       "      <td>Product Strategy, Product Design, Product Deve...</td>\n",
       "    </tr>\n",
       "    <tr>\n",
       "      <th>2</th>\n",
       "      <td>C++</td>\n",
       "      <td>intermediate</td>\n",
       "      <td>Data Structures &amp; Algorithms, Memory Managemen...</td>\n",
       "    </tr>\n",
       "    <tr>\n",
       "      <th>3</th>\n",
       "      <td>Business Analytics</td>\n",
       "      <td>beginner</td>\n",
       "      <td>Excel &amp; Spreadsheets, SQL, Data Visualization,...</td>\n",
       "    </tr>\n",
       "    <tr>\n",
       "      <th>4</th>\n",
       "      <td>Data Scientist</td>\n",
       "      <td>advanced</td>\n",
       "      <td>Machine Learning, Deep Learning, Software Engi...</td>\n",
       "    </tr>\n",
       "    <tr>\n",
       "      <th>...</th>\n",
       "      <td>...</td>\n",
       "      <td>...</td>\n",
       "      <td>...</td>\n",
       "    </tr>\n",
       "    <tr>\n",
       "      <th>262</th>\n",
       "      <td>Front-End Interview Prep</td>\n",
       "      <td>intermediate</td>\n",
       "      <td>Interview questions, Common FE Questions, Whit...</td>\n",
       "    </tr>\n",
       "    <tr>\n",
       "      <th>263</th>\n",
       "      <td>Full-Stack Interview Prep</td>\n",
       "      <td>intermediate</td>\n",
       "      <td>Interview practice, Common FS Questions, White...</td>\n",
       "    </tr>\n",
       "    <tr>\n",
       "      <th>264</th>\n",
       "      <td>Data Structures &amp; Algorithms in Swift</td>\n",
       "      <td>intermediate</td>\n",
       "      <td>Interview practice, Swift, Data structures, Ca...</td>\n",
       "    </tr>\n",
       "    <tr>\n",
       "      <th>265</th>\n",
       "      <td>iOS Interview Prep</td>\n",
       "      <td>intermediate</td>\n",
       "      <td>Interview practice, Common iOS Questions, Whit...</td>\n",
       "    </tr>\n",
       "    <tr>\n",
       "      <th>266</th>\n",
       "      <td>VR Interview Prep</td>\n",
       "      <td>intermediate</td>\n",
       "      <td>Interview practice, Common VR Questions, White...</td>\n",
       "    </tr>\n",
       "  </tbody>\n",
       "</table>\n",
       "<p>267 rows × 3 columns</p>\n",
       "</div>"
      ],
      "text/plain": [
       "                                     Title         Level  \\\n",
       "0                Data Engineering with AWS  intermediate   \n",
       "1                          Product Manager      beginner   \n",
       "2                                      C++  intermediate   \n",
       "3                       Business Analytics      beginner   \n",
       "4                           Data Scientist      advanced   \n",
       "..                                     ...           ...   \n",
       "262               Front-End Interview Prep  intermediate   \n",
       "263              Full-Stack Interview Prep  intermediate   \n",
       "264  Data Structures & Algorithms in Swift  intermediate   \n",
       "265                     iOS Interview Prep  intermediate   \n",
       "266                      VR Interview Prep  intermediate   \n",
       "\n",
       "                                        Skills Covered  \n",
       "0    AWS Glue,  Amazon S3,  AWS Data Warehouse,  Re...  \n",
       "1    Product Strategy, Product Design, Product Deve...  \n",
       "2    Data Structures & Algorithms, Memory Managemen...  \n",
       "3    Excel & Spreadsheets, SQL, Data Visualization,...  \n",
       "4    Machine Learning, Deep Learning, Software Engi...  \n",
       "..                                                 ...  \n",
       "262  Interview questions, Common FE Questions, Whit...  \n",
       "263  Interview practice, Common FS Questions, White...  \n",
       "264  Interview practice, Swift, Data structures, Ca...  \n",
       "265  Interview practice, Common iOS Questions, Whit...  \n",
       "266  Interview practice, Common VR Questions, White...  \n",
       "\n",
       "[267 rows x 3 columns]"
      ]
     },
     "execution_count": 106,
     "metadata": {},
     "output_type": "execute_result"
    }
   ],
   "source": [
    "new_df"
   ]
  },
  {
   "cell_type": "code",
   "execution_count": 107,
   "metadata": {},
   "outputs": [
    {
     "data": {
      "text/plain": [
       "0      intermediate\n",
       "1          beginner\n",
       "2      intermediate\n",
       "3          beginner\n",
       "4          advanced\n",
       "           ...     \n",
       "262    intermediate\n",
       "263    intermediate\n",
       "264    intermediate\n",
       "265    intermediate\n",
       "266    intermediate\n",
       "Name: Level, Length: 267, dtype: object"
      ]
     },
     "execution_count": 107,
     "metadata": {},
     "output_type": "execute_result"
    }
   ],
   "source": [
    "new_df[\"Level\"]"
   ]
  },
  {
   "cell_type": "code",
   "execution_count": 108,
   "metadata": {},
   "outputs": [
    {
     "data": {
      "text/plain": [
       "Title             0\n",
       "Level             2\n",
       "Skills Covered    0\n",
       "dtype: int64"
      ]
     },
     "execution_count": 108,
     "metadata": {},
     "output_type": "execute_result"
    }
   ],
   "source": [
    "new_df.isna().sum()"
   ]
  },
  {
   "cell_type": "code",
   "execution_count": 109,
   "metadata": {},
   "outputs": [
    {
     "data": {
      "text/plain": [
       "Title             object\n",
       "Level             object\n",
       "Skills Covered    object\n",
       "dtype: object"
      ]
     },
     "execution_count": 109,
     "metadata": {},
     "output_type": "execute_result"
    }
   ],
   "source": [
    "new_df.dtypes"
   ]
  },
  {
   "cell_type": "code",
   "execution_count": 135,
   "metadata": {},
   "outputs": [],
   "source": [
    "vectorizer = TfidfVectorizer()\n",
    "matrix = vectorizer.fit_transform(new_df[\"Skills Covered\"])"
   ]
  },
  {
   "cell_type": "code",
   "execution_count": 136,
   "metadata": {},
   "outputs": [
    {
     "name": "stdout",
     "output_type": "stream",
     "text": [
      "{'aws': 79, 'glue': 363, 'amazon': 27, 's3': 759, 'data': 209, 'warehouse': 955, 'redshift': 716, 'apache': 42, 'airflow': 20, 'pipeline': 632, 'dags': 207, 'extraction': 313, 'creation': 190, 'etl': 299, 'olap': 585, 'cubes': 197, 'architecture': 51, 'cloud': 144, 'computing': 166, 'fluency': 332, 'maintenance': 502, 'product': 673, 'strategy': 846, 'design': 234, 'development': 239, 'sprint': 824, 'launch': 470, 'structures': 851, 'algorithms': 24, 'memory': 525, 'management': 505, 'concurrency': 168, 'object': 576, 'oriented': 603, 'programming': 677, 'excel': 304, 'spreadsheets': 822, 'sql': 826, 'visualization': 947, 'dashboards': 208, 'machine': 500, 'learning': 474, 'deep': 222, 'software': 813, 'engineering': 288, 'front': 343, 'end': 285, 'basics': 89, 'html': 392, 'css': 195, 'python': 689, 'syntax': 861, 'text': 884, 'processing': 669, 'in': 408, 'devtools': 242, 'command': 153, 'line': 482, 'interface': 432, 'code': 148, 'debugging': 220, 'basic': 88, 'javascript': 447, 'scripts': 772, 'functions': 348, 'arrays': 56, 'objects': 578, 'digital': 248, 'marketing': 514, 'fundamentals': 349, 'google': 367, 'analytics': 32, 'social': 812, 'media': 522, 'facebook': 315, 'search': 775, 'engine': 287, 'optimization': 593, 'metrics': 530, 'display': 253, 'ads': 10, 'video': 940, 'advertising': 14, 'email': 279, 'branding': 111, 'wrangling': 971, 'matplotlib': 519, 'bootstrapping': 104, 'pandas': 609, 'numpy': 574, 'statistics': 837, 'neural': 566, 'networks': 565, 'perceptron': 621, 'autoencoders': 70, 'convolutional': 185, 'pytorch': 690, 'detection': 235, 'recurrent': 713, 'long': 496, 'short': 802, 'term': 879, 'backpropagation': 83, 'generative': 358, 'adversarial': 13, 'techniques': 873, 'image': 402, 'generation': 357, 'hyperparameter': 397, 'tuning': 907, 'git': 361, 'github': 362, 'postgresql': 649, 'flask': 329, 'docker': 258, 'kubernetes': 464, 'feature': 320, 'loading': 491, 'with': 964, 'sagemaker': 760, 'network': 563, 'framework': 340, 'jumpstart': 454, 'resource': 738, 'allocation': 25, 'distributed': 254, 'model': 541, 'training': 898, 'lambda': 468, 'joins': 449, 'subqueries': 855, 'window': 963, 'partitions': 614, 'cleaning': 140, 'ddl': 217, 'dml': 257, 'relational': 726, 'and': 33, 'non': 569, 'databases': 211, 'api': 44, 'automated': 73, 'scoring': 769, 'ci': 136, 'cd': 129, 'testing': 882, 'version': 937, 'control': 181, 'pipelines': 633, 'momentum': 548, 'trading': 896, 'smart': 811, 'beta': 93, 'alpha': 26, 'factors': 317, 'natural': 561, 'language': 469, 'react': 700, 'component': 162, 'state': 833, 'router': 756, 'hooks': 390, 'application': 48, 'redux': 718, 'bindings': 98, 'fetching': 322, 'native': 560, 'lifecycle': 481, 'jest': 448, 'patterns': 618, 'computer': 165, 'vision': 945, 'sensor': 787, 'fusion': 350, 'localization': 493, 'self': 782, 'driving': 265, 'cars': 128, 'path': 616, 'planning': 638, 'user': 923, 'research': 737, 'experience': 307, 'prototyping': 685, 'interactive': 431, 'usability': 920, 'java': 446, 'spring': 823, 'boot': 103, 'rest': 742, 'mysql': 557, 'mongodb': 550, 'database': 210, 'normalization': 570, 'modeling': 542, 'scripting': 771, 'denormalized': 230, 'schemas': 765, 'big': 96, 'spark': 817, 'lakes': 467, 'azure': 80, 'science': 766, 'journey': 450, 'maps': 512, 'modular': 546, 'package': 606, 'index': 410, 'acquisition': 5, 'growth': 377, 'loops': 497, 'activation': 7, 'monetization': 549, 'premium': 654, 'value': 929, 'cohort': 151, 'analysis': 30, 'experiment': 308, 'target': 867, 'personas': 627, 'customer': 201, 'cost': 187, 'webpack': 959, 'flexbox': 330, 'node': 568, 'ethereum': 297, 'blockchain': 102, 'auditing': 67, 'reinforcement': 725, 'dqn': 263, 'deterministic': 236, 'policy': 645, 'gradients': 370, 'ddpg': 218, 'simultaneous': 804, 'mapping': 510, 'tracking': 895, 'classification': 139, 'problem': 664, 'solving': 815, 'interview': 436, 'practice': 651, 'problems': 665, 'ros': 755, 'slam': 809, 'navigation': 562, 'robot': 752, 'operating': 590, 'system': 862, 'robotics': 753, 'ai': 19, 'products': 674, 'ml': 539, 'models': 543, 'annotating': 38, 'datasets': 215, 'android': 34, 'kotlin': 463, 'studio': 852, 'gradle': 371, 'restful': 743, 'interfaces': 433, 'web': 958, 'apis': 45, 'app': 47, 'custom': 200, 'views': 942, 'notifications': 571, 'location': 494, 'services': 797, 'firebase': 327, 'functional': 346, 'reflection': 720, 'concurrent': 169, 'modules': 547, 'configuration': 172, 'ansible': 41, 'continuous': 180, 'integration': 425, 'deployment': 232, 'microservices': 532, 'cloudformation': 145, 'entity': 289, 'relationship': 727, 'diagrams': 244, 'online': 586, 'analytical': 31, 'operational': 591, 'stores': 841, 'lake': 466, 'governance': 369, 'power': 650, 'bi': 94, 'visulations': 949, 'extract': 312, 'transform': 900, 'load': 490, 'expressions': 311, 'speech': 820, 'recognition': 707, 'sentiment': 789, 'translation': 902, 'part': 612, 'of': 582, 'tagging': 866, 'vehicle': 935, 'motion': 553, 'creating': 189, 'an': 28, 'js': 452, 'angular': 35, 'typescript': 909, 'threat': 888, 'assessment': 60, 'security': 777, 'vulnerabilities': 953, 'compliance': 161, 'risk': 751, 'incident': 409, 'response': 739, 'streaming': 847, 'kafka': 455, 'serverless': 795, 'tensorflow': 878, 'scikit': 767, 'learn': 473, 'supervised': 856, 'unsupervised': 918, 'perception': 620, 'lidar': 478, 'radar': 696, 'sensors': 788, 'forecasting': 335, 'segmentation': 778, 'dom': 261, 'asynchronous': 64, 'synchronous': 860, 'agile': 17, 'scrum': 773, 'kanban': 457, 'xp': 975, 'minimum': 537, 'viable': 939, 'introduction': 437, 'to': 892, 'infrastructure': 417, 'high': 389, 'availability': 77, 'artificial': 57, 'intelligence': 427, 'business': 116, 'labeling': 465, '2d': 0, 'medical': 523, 'imaging': 405, '3d': 1, 'electronic': 276, 'health': 386, 'record': 711, 'wearable': 957, 'device': 240, 'swift': 858, 'core': 186, 'uikit': 911, 'ios': 441, 'networking': 564, 'publishing': 687, 'local': 492, 'persistence': 625, 'controls': 183, 'estimation': 296, 'kalman': 456, 'filters': 326, 'constraint': 175, 'propagation': 682, 'satisfaction': 762, 'backtracking': 84, 'minimax': 535, 'bayesian': 90, 'pattern': 617, 'time': 891, 'series': 793, 'waterfall': 956, 'project': 679, 'strategic': 844, 'communication': 157, 'plans': 639, 'requirements': 736, 'gathering': 353, 'scoping': 768, 'execution': 306, 'gantt': 352, 'charts': 132, 'frameworks': 341, 'stakeholder': 830, 'goals': 366, 'team': 870, 'benefit': 91, 'microservice': 531, 'delivery': 228, 'message': 527, 'passing': 615, 'observability': 579, 'tableau': 865, 'storytelling': 843, 'center': 130, 'manager': 506, 'pricing': 658, 'calculator': 119, 'key': 459, 'vault': 932, 'defender': 224, 'policies': 644, 'evaluation': 301, 'privileged': 661, 'identity': 400, 'access': 2, 'disaster': 251, 'recovery': 712, 'vulnerability': 954, 'penetration': 619, 'reconnaissance': 710, 'open': 588, 'source': 816, 'process': 667, 'automation': 74, 'operations': 592, 'uipath': 912, 'orchestrator': 598, 'privacy': 660, 'by': 117, 'minimization': 536, 'encryption': 284, 'sensitive': 786, 'hashing': 382, 'anonymization': 39, 'regulations': 724, 'tiers': 890, 'deletion': 227, 'redaction': 715, 'for': 334, 'regional': 721, 'sdk': 774, 'human': 396, 'capital': 125, 'cryptography': 194, 'authentication': 68, 'authorization': 69, 'building': 115, 'sre': 828, 'teams': 871, 'best': 92, 'practices': 652, 'prometheus': 680, 'grafana': 372, 'service': 796, 'level': 475, 'indicators': 413, 'terraform': 880, 'geo': 359, 'replication': 731, 'healing': 385, 'rollback': 754, 'post': 648, 'mortems': 552, 'reliability': 728, 'reviews': 750, 'capacity': 124, 'as': 58, 'test': 881, 'monitoring': 551, 'defensible': 225, 'mitigation': 538, 'handling': 380, 'portfolio': 647, 'websites': 960, 'professional': 675, 'resumes': 746, 'presence': 656, 'disclosure': 252, 'agreements': 18, 'freelance': 342, 'invoicing': 440, 'brand': 110, 'elevator': 278, 'pitches': 636, 'formal': 337, 'written': 973, 'tools': 894, 'virtual': 943, 'machines': 501, 'migration': 534, 'go': 365, 'environment': 291, 'backend': 82, 'goroutines': 368, 'server': 794, 'impact': 406, 'assessments': 61, 'checklists': 134, 'loss': 498, 'prevention': 657, 'technical': 872, 'cybersecurity': 204, 'procedural': 666, 'nist': 567, 'transformation': 901, 'leadership': 472, 'novel': 572, 'efficiencies': 271, 'excellence': 305, 'did': 245, 'playbooks': 641, 'diagramming': 243, 'matrices': 520, 'hardening': 381, 'writing': 972, 'zero': 977, 'trust': 906, 'backup': 85, 'container': 177, 'it': 444, 'asset': 62, 'secure': 776, 'form': 336, 'facial': 316, 'face': 314, 'cognitive': 150, 'microsoft': 533, 'bot': 105, 'conversational': 184, 'agents': 15, 'intent': 428, 'phrase': 629, 'recognizer': 708, 'bounding': 106, 'boxes': 108, 'pillars': 630, 'maturity': 521, 'perimeter': 623, 'implementation': 407, 'actors': 8, 'devices': 241, 'strategies': 845, 'phishing': 628, 'standards': 832, 'fairness': 318, 'transparency': 904, 'bias': 95, 'explainable': 309, 'ethical': 298, 'responsible': 740, 'algebra': 22, 'vectors': 934, 'intersections': 435, 'randomized': 698, 'clustering': 146, 'selection': 781, 'information': 416, 'theory': 886, 'care': 126, 'applications': 49, 'edge': 269, 'intel': 426, 'openvino': 589, 'probability': 663, 'logic': 495, 'questioning': 694, 'validation': 928, 'qmv': 691, 'd3': 206, 'visualizations': 948, 'visual': 946, 'encodings': 283, 'computational': 163, 'investing': 438, 'algorithmic': 23, 'game': 351, 'hadoop': 379, 'mapreduce': 511, 'real': 705, 'storm': 842, 'tests': 883, 'results': 744, 'statistical': 836, 'significance': 803, 'exploratory': 310, 'semantic': 783, 'common': 155, 'sense': 785, 'reasoning': 706, 'analogical': 29, 'visuospatial': 950, 'lite': 487, 'linux': 486, 'stereo': 838, 'geometry': 360, 'matching': 517, 'linear': 483, 'eigenvectors': 274, 'eigenvalues': 273, 'markov': 515, 'probabilistic': 662, 'cnns': 147, 'lstms': 499, 'style': 853, 'transfer': 899, 'deepracer': 223, 'temporal': 877, 'difference': 246, 'partially': 613, 'observable': 580, 'decision': 221, 'processes': 668, 'pomdp': 646, 'manipulation': 508, 'platform': 640, 'apps': 50, 'automate': 72, 'builder': 114, 'installing': 423, 'sublime': 854, 'plugins': 642, 'gulp': 378, 'live': 488, 'editing': 270, 'eslint': 295, 'single': 806, 'page': 607, 'ember': 281, 'underscore': 913, 'template': 874, 'function': 345, 'backbone': 81, 'events': 302, 'routing': 757, 'responsive': 741, 'remote': 729, 'emulation': 282, 'optimizing': 595, 'layout': 471, 'queries': 692, 'chrome': 135, 'developer': 237, 'cssom': 196, 'critical': 191, 'rendering': 730, 'optimizations': 594, 'urlsession': 919, 'json': 453, 'parsing': 611, 'separating': 790, 'concerns': 167, 'organization': 600, 'using': 925, 'organizational': 601, 'library': 477, 'knockoutjs': 462, 'performance': 622, 'images': 404, 'mobile': 540, 'graphics': 374, 'lldb': 489, 'promises': 681, 'advanced': 11, 'error': 293, 'generating': 356, 'sequences': 791, 'async': 63, 'work': 965, 'autolayout': 71, 'table': 864, 'collection': 152, 'http': 394, 'request': 734, 'cycle': 205, 'headers': 384, 'verbs': 936, 'capabilities': 123, 'https': 395, 'client': 142, 'html5': 393, 'input': 421, 'types': 908, 'datalist': 214, 'attributes': 66, 'validate': 927, 'forms': 339, 'unified': 915, 'review': 749, 'public': 686, 'oauth': 575, 'avfoundation': 78, 'threads': 887, 'inter': 429, 'virtualization': 944, 'file': 324, 'systems': 863, 'accessibility': 3, 'screen': 770, 'readers': 702, 'focus': 333, 'semantics': 784, 'aria': 54, 'sqlite': 827, 'contentprovider': 179, 'cursoradapter': 198, 'cursorloader': 199, 'deploying': 231, 'browser': 112, 'animation': 37, 'idle': 401, 'rail': 697, 'how': 391, 'debug': 219, 'variables': 931, 'constants': 174, 'flow': 331, 'optionals': 596, 'oop': 587, 'developing': 238, 'offline': 584, 'first': 328, 'understanding': 914, 'lie': 479, 'fi': 323, 'worker': 966, 'indexeddb': 411, 'caching': 118, 'ux': 926, 'centered': 131, 'life': 480, 'black': 100, 'box': 107, 'white': 961, 'methodology': 528, 'progressive': 678, 'workers': 967, 'manifest': 507, 'readme': 704, 'markdown': 513, 'making': 503, 'easier': 268, 'read': 701, 'dataflow': 212, 'based': 87, 'symbolic': 859, 'userdefaults': 924, 'filemanager': 325, 'defined': 226, 'content': 178, 'distribution': 255, 'congestion': 173, 'traffic': 897, 'shaping': 800, 'crash': 188, 'reporting': 733, 'config': 171, 'dynamic': 266, 'links': 485, 'principles': 659, 'direct': 249, 'mental': 526, 'cognition': 149, 'libgdx': 476, 'jquery': 451, 'structure': 850, 'reading': 703, 'documentation': 260, 'modify': 545, 'industrial': 414, 'grid': 376, 'cyber': 203, 'ui': 910, 'ruby': 758, 'sinatra': 805, 'jasmine': 445, 'red': 714, 'green': 375, 'refactor': 719, 'workflow': 968, 'functionality': 347, 'prototypal': 684, 'inheritance': 418, 'translator': 903, 'toolkit': 893, 'at': 65, 'compilers': 159, 'directed': 250, 'canvas': 121, 'canvas2d': 122, 'interaction': 430, 'multithreaded': 555, 'conditionals': 170, 'closures': 143, 'gcd': 354, 'buddybuild': 113, 'strings': 849, 'descriptive': 233, 'inferential': 415, 'set': 798, 'vr': 952, 'unity': 916, 'general': 355, 'works': 970, 'objective': 577, 'animated': 36, 'demo': 229, 'program': 676, 'vertex': 938, 'pixel': 637, 'shaders': 799, 'crud': 192, 'view': 941, 'controller': 182, 'processor': 670, 'pipelining': 634, 'branch': 109, 'prediction': 653, 'instruction': 424, 'scheduling': 763, 'ordering': 599, 'multiprocessor': 554, 'architectures': 52, 'stack': 829, 'constraints': 176, 'unix': 917, 'methods': 529, 'distributions': 256, 'hypothesis': 398, 'regression': 723, 'theoretical': 885, 'np': 573, 'completeness': 160, 'recognizing': 709, 'assessing': 59, 'domain': 262, 'name': 558, 'ping': 631, 'tcp': 869, 'ip': 442, 'addressing': 9, 'sequential': 792, 'query': 693, 'indexing': 412, 'injection': 419, 'kinematics': 460, 'dynamics': 267, 'trigonometry': 905, 'periodic': 624, 'electricity': 275, 'rational': 699, 'db': 216, 'select': 780, 'insert': 422, 'statements': 834, 'es6': 294, 'requests': 735, 'site': 807, 'customization': 202, 'graph': 373, 'mvc': 556, 'organized': 602, 'retrieval': 747, 'ajax': 21, 'xhr': 974, 'fetch': 321, 'vliw': 951, 'embedded': 280, 'differential': 247, 'register': 722, 'processors': 671, 'shared': 801, 'parallel': 610, 'hierarchical': 388, 'kernels': 458, 'account': 4, 'kit': 461, 'repo': 732, 'commits': 154, 'salesforce': 761, 'schema': 764, 'heroku': 387, 'ciphers': 137, 'pointers': 643, 'templates': 876, 'standard': 831, 'producing': 672, 'templated': 875, 'output': 605, 'elements': 277, 'cryptanalysis': 193, 'ideation': 399, 'store': 840, 'static': 835, 'street': 848, 'imagery': 403, 'usage': 921, 'pyschology': 688, 'biology': 99, 'engagement': 286, 'aggregation': 16, 'anova': 40, 'sparksql': 818, 'dataframes': 213, 'skills': 808, 'gmail': 364, 'calendar': 120, 'drive': 264, 'docs': 259, 'slides': 810, 'meet': 524, 'chat': 133, 'intermediate': 434, 'spreadsheet': 821, 'use': 922, 'invision': 439, 'issues': 443, 'formatting': 338, 'blending': 101, 'binary': 97, 'classication': 138, 'sprints': 825, 'variable': 930, 'reduction': 717, 'ets': 300, 'arima': 55, 'matched': 516, 'pair': 608, 'entrepreneurship': 290, 'proposition': 683, 'revenue': 748, 'segments': 779, 'workforce': 969, 'oracle': 597, 'autonomous': 75, 'exadata': 303, 'apex': 43, 'spatial': 819, 'vcn': 933, 'balancer': 86, 'oci': 581, 'compute': 164, 'storage': 839, 'autoscaling': 76, 'os': 604, 'solution': 814, 'tier': 889, 'offerings': 583, 'support': 857, 'cli': 141, 'manage': 504, 'innovation': 420, 'modernization': 544, 'efficiency': 272, 'argo': 53, 'actions': 6, 'math': 518, 'equations': 292, 'apollo': 46, 'hd': 383, 'map': 509, 'preparation': 655, 'career': 127, 'advancement': 12, 'narrative': 559, 'targeting': 868, 'your': 976, 'pitch': 635, 'communicating': 156, 'resume': 745, 'company': 158, 'personal': 626, 'linkedin': 484, 'questions': 695, 'whiteboarding': 962, 'fe': 319, 'fs': 344}\n"
     ]
    }
   ],
   "source": [
    "print(vectorizer.vocabulary_)"
   ]
  },
  {
   "cell_type": "code",
   "execution_count": 137,
   "metadata": {},
   "outputs": [
    {
     "name": "stdout",
     "output_type": "stream",
     "text": [
      "(267, 978)\n"
     ]
    }
   ],
   "source": [
    "print(matrix.shape)"
   ]
  },
  {
   "cell_type": "code",
   "execution_count": 113,
   "metadata": {},
   "outputs": [],
   "source": [
    "cosine_sim = cosine_similarity(matrix , matrix)"
   ]
  },
  {
   "cell_type": "code",
   "execution_count": 149,
   "metadata": {},
   "outputs": [],
   "source": [
    "def get_course(skills):\n",
    "    selected_skills = ', '.join(skills)\n",
    "\n",
    "    user_vector = vectorizer.transform([selected_skills])\n",
    "    # print(\"User Vector shape:\", user_vector.shape)\n",
    "    # print(\"Matrix shape:\", matrix.shape)\n",
    "    cosine_sim_with_selected_skills = cosine_similarity(user_vector, matrix)\n",
    "\n",
    "    sim_scores = list(enumerate(cosine_sim_with_selected_skills[0]))\n",
    "    sim_scores = sorted(sim_scores, key=lambda x: x[1], reverse=True)\n",
    "\n",
    "    course_indices = [score[0] for score in sim_scores[:3]]\n",
    "    recommendations = new_df['Title'].iloc[course_indices].tolist()\n",
    "\n",
    "    return recommendations\n"
   ]
  },
  {
   "cell_type": "code",
   "execution_count": 141,
   "metadata": {},
   "outputs": [],
   "source": [
    "# print(\"User Vector shape:\", user_vector.shape)\n",
    "# print(\"Matrix shape:\", matrix.shape)"
   ]
  },
  {
   "cell_type": "code",
   "execution_count": 150,
   "metadata": {},
   "outputs": [
    {
     "name": "stdout",
     "output_type": "stream",
     "text": [
      "['Cloud Developer', 'AWS DeepRacer', 'Data Engineering with AWS']\n"
     ]
    }
   ],
   "source": [
    "user_selected_skills = [\"AWS\"]\n",
    "recommendations_for_user_skills = get_course(user_selected_skills)\n",
    "print(recommendations_for_user_skills)\n"
   ]
  },
  {
   "cell_type": "code",
   "execution_count": 153,
   "metadata": {},
   "outputs": [
    {
     "name": "stdout",
     "output_type": "stream",
     "text": [
      "['Data Engineering with AWS', 'Product Manager', 'C++']\n"
     ]
    }
   ],
   "source": [
    "user_selected_skills = [\"C++\"]\n",
    "recommendations_for_user_skills = get_course(user_selected_skills)\n",
    "print(recommendations_for_user_skills)"
   ]
  },
  {
   "cell_type": "code",
   "execution_count": 155,
   "metadata": {},
   "outputs": [
    {
     "name": "stdout",
     "output_type": "stream",
     "text": [
      "['Data Science Interview Prep', 'Data Structures & Algorithms in Swift', 'C++']\n"
     ]
    }
   ],
   "source": [
    "user_selected_skills = [\"Data Structures\"]\n",
    "recommendations_for_user_skills = get_course(user_selected_skills)\n",
    "print(recommendations_for_user_skills)"
   ]
  }
 ],
 "metadata": {
  "kernelspec": {
   "display_name": "Python 3",
   "language": "python",
   "name": "python3"
  },
  "language_info": {
   "codemirror_mode": {
    "name": "ipython",
    "version": 3
   },
   "file_extension": ".py",
   "mimetype": "text/x-python",
   "name": "python",
   "nbconvert_exporter": "python",
   "pygments_lexer": "ipython3",
   "version": "3.12.0"
  }
 },
 "nbformat": 4,
 "nbformat_minor": 2
}
